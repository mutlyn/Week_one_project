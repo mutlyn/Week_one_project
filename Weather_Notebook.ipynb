{
  "cells": [
    {
      "cell_type": "code",
      "execution_count": 18,
      "id": "a02358e1-0083-46ce-b1f2-1073309eea22",
      "metadata": {
        "id": "a02358e1-0083-46ce-b1f2-1073309eea22"
      },
      "outputs": [],
      "source": [
        "import pandas as pd"
      ]
    },
    {
      "cell_type": "code",
      "execution_count": 19,
      "id": "18237106-f99b-4bfc-bec7-ee5fd13f65ea",
      "metadata": {
        "id": "18237106-f99b-4bfc-bec7-ee5fd13f65ea"
      },
      "outputs": [],
      "source": [
        "df = pd .read_csv(\"1. Weather Data.csv\")"
      ]
    },
    {
      "cell_type": "code",
      "execution_count": 20,
      "id": "d95a8e2b-0313-4bb8-9be1-00492592c9ed",
      "metadata": {
        "scrolled": true,
        "colab": {
          "base_uri": "https://localhost:8080/"
        },
        "id": "d95a8e2b-0313-4bb8-9be1-00492592c9ed",
        "outputId": "067fde99-8dca-41ff-ee91-537e0ae19abd"
      },
      "outputs": [
        {
          "output_type": "stream",
          "name": "stdout",
          "text": [
            "             Date/Time  Temp_C  Dew Point Temp_C  Rel Hum_%  Wind Speed_km/h  \\\n",
            "67      1/3/2012 19:00   -16.9             -24.8         50               24   \n",
            "114     1/5/2012 18:00    -7.1             -14.4         56               11   \n",
            "115     1/5/2012 19:00    -9.2             -15.4         61                7   \n",
            "116     1/5/2012 20:00    -9.8             -15.7         62                9   \n",
            "117     1/5/2012 21:00    -9.0             -14.8         63               13   \n",
            "...                ...     ...               ...        ...              ...   \n",
            "8646   12/26/2012 6:00   -13.4             -14.8         89                4   \n",
            "8698  12/28/2012 10:00    -6.1              -8.6         82               19   \n",
            "8713   12/29/2012 1:00   -11.9             -13.6         87               11   \n",
            "8714   12/29/2012 2:00   -11.8             -13.1         90               13   \n",
            "8756  12/30/2012 20:00   -13.8             -16.5         80               24   \n",
            "\n",
            "      Visibility_km  Press_kPa Weather  \n",
            "67             25.0     101.74   Clear  \n",
            "114            25.0     100.71   Clear  \n",
            "115            25.0     100.80   Clear  \n",
            "116            25.0     100.83   Clear  \n",
            "117            25.0     100.83   Clear  \n",
            "...             ...        ...     ...  \n",
            "8646           25.0     102.47   Clear  \n",
            "8698           24.1     101.27   Clear  \n",
            "8713           25.0     101.31   Clear  \n",
            "8714           25.0     101.33   Clear  \n",
            "8756           25.0     101.52   Clear  \n",
            "\n",
            "[1326 rows x 8 columns]\n"
          ]
        }
      ],
      "source": [
        "clear_weather=df[df['Weather']== 'Clear']\n",
        "print (clear_weather)"
      ]
    },
    {
      "cell_type": "code",
      "execution_count": 21,
      "id": "0d5122f8-1ae9-46ce-b13f-24a0bef932d3",
      "metadata": {
        "colab": {
          "base_uri": "https://localhost:8080/"
        },
        "id": "0d5122f8-1ae9-46ce-b13f-24a0bef932d3",
        "outputId": "06f5077b-5e06-418f-dd0b-9aa2c2cf9c31"
      },
      "outputs": [
        {
          "output_type": "stream",
          "name": "stdout",
          "text": [
            "474\n"
          ]
        }
      ],
      "source": [
        "wind_speed_4=df[df['Wind Speed_km/h']== 4].shape[0]\n",
        "print (wind_speed_4)"
      ]
    },
    {
      "cell_type": "code",
      "execution_count": 22,
      "id": "f94b2732-64d3-4947-b3a5-c0d51dff1da0",
      "metadata": {
        "colab": {
          "base_uri": "https://localhost:8080/"
        },
        "id": "f94b2732-64d3-4947-b3a5-c0d51dff1da0",
        "outputId": "4e18cc21-7bfe-4d9e-c9a2-cbc6ab78647a"
      },
      "outputs": [
        {
          "output_type": "stream",
          "name": "stdout",
          "text": [
            "Date/Time           0\n",
            "Temp_C              0\n",
            "Dew Point Temp_C    0\n",
            "Rel Hum_%           0\n",
            "Wind Speed_km/h     0\n",
            "Visibility_km       0\n",
            "Press_kPa           0\n",
            "Weather             0\n",
            "dtype: int64\n"
          ]
        }
      ],
      "source": [
        "null_values = df.isnull().sum()\n",
        "print(null_values)"
      ]
    },
    {
      "cell_type": "markdown",
      "id": "c9a3bbe7-061d-4b60-ae71-3b5966a39f27",
      "metadata": {
        "id": "c9a3bbe7-061d-4b60-ae71-3b5966a39f27"
      },
      "source": [
        "df = df.rename(columns={'Weather': 'Weather_Condition'})"
      ]
    },
    {
      "cell_type": "code",
      "execution_count": 23,
      "id": "5d0f4c6d-957f-4363-a0bc-e280ac70552c",
      "metadata": {
        "colab": {
          "base_uri": "https://localhost:8080/"
        },
        "id": "5d0f4c6d-957f-4363-a0bc-e280ac70552c",
        "outputId": "825975e8-367b-469c-81d2-5d9aedc5894b"
      },
      "outputs": [
        {
          "output_type": "stream",
          "name": "stdout",
          "text": [
            "Index(['Date/Time', 'Temp_C', 'Dew Point Temp_C', 'Rel Hum_%',\n",
            "       'Wind Speed_km/h', 'Visibility_km', 'Press_kPa', 'Weather'],\n",
            "      dtype='object')\n"
          ]
        }
      ],
      "source": [
        "print (df.columns)"
      ]
    },
    {
      "cell_type": "code",
      "execution_count": 24,
      "id": "da5e5650-c686-4679-b262-101bd7b4f9bb",
      "metadata": {
        "colab": {
          "base_uri": "https://localhost:8080/"
        },
        "id": "da5e5650-c686-4679-b262-101bd7b4f9bb",
        "outputId": "21682c3f-e989-4dc0-8f3c-0f4754cae8db"
      },
      "outputs": [
        {
          "output_type": "stream",
          "name": "stdout",
          "text": [
            "27.664446721311478\n"
          ]
        }
      ],
      "source": [
        "mean_visibility= df['Visibility_km'].mean ()\n",
        "print (mean_visibility)"
      ]
    },
    {
      "cell_type": "code",
      "execution_count": 25,
      "id": "70d7b65c-52da-406d-a1d7-b49ba8756c13",
      "metadata": {
        "colab": {
          "base_uri": "https://localhost:8080/"
        },
        "id": "70d7b65c-52da-406d-a1d7-b49ba8756c13",
        "outputId": "be213ef8-5ac1-427b-b646-9b3885211cc5"
      },
      "outputs": [
        {
          "output_type": "stream",
          "name": "stdout",
          "text": [
            "308\n"
          ]
        }
      ],
      "source": [
        "high_wind_low_visibility = df[(df['Wind Speed_km/h'] > 24) & (df['Visibility_km'] == 25)].shape[0]\n",
        "print(high_wind_low_visibility)"
      ]
    },
    {
      "cell_type": "code",
      "execution_count": 30,
      "id": "62245816-1ad7-47f5-8836-711611366e59",
      "metadata": {
        "colab": {
          "base_uri": "https://localhost:8080/"
        },
        "id": "62245816-1ad7-47f5-8836-711611366e59",
        "outputId": "a12eb253-91fb-4622-9559-a5b65801a007"
      },
      "outputs": [
        {
          "output_type": "stream",
          "name": "stdout",
          "text": [
            "                                            Temp_C  Dew Point Temp_C  \\\n",
            "Weather_Condition                                                      \n",
            "Clear                                     6.825716          0.089367   \n",
            "Cloudy                                    7.970544          2.375810   \n",
            "Drizzle                                   7.353659          5.504878   \n",
            "Drizzle,Fog                               8.067500          7.033750   \n",
            "Drizzle,Ice Pellets,Fog                   0.400000         -0.700000   \n",
            "Drizzle,Snow                              1.050000          0.150000   \n",
            "Drizzle,Snow,Fog                          0.693333          0.120000   \n",
            "Fog                                       4.303333          3.159333   \n",
            "Freezing Drizzle                         -5.657143         -8.000000   \n",
            "Freezing Drizzle,Fog                     -2.533333         -4.183333   \n",
            "Freezing Drizzle,Haze                    -5.433333         -8.000000   \n",
            "Freezing Drizzle,Snow                    -5.109091         -7.072727   \n",
            "Freezing Fog                             -7.575000         -9.250000   \n",
            "Freezing Rain                            -3.885714         -6.078571   \n",
            "Freezing Rain,Fog                        -2.225000         -3.750000   \n",
            "Freezing Rain,Haze                       -4.900000         -7.450000   \n",
            "Freezing Rain,Ice Pellets,Fog            -2.600000         -3.700000   \n",
            "Freezing Rain,Snow Grains                -5.000000         -7.300000   \n",
            "Haze                                     -0.200000         -2.975000   \n",
            "Mainly Clear                             12.558927          4.581671   \n",
            "Moderate Rain,Fog                         1.700000          0.800000   \n",
            "Moderate Snow                            -5.525000         -7.250000   \n",
            "Moderate Snow,Blowing Snow               -5.450000         -6.500000   \n",
            "Mostly Cloudy                            10.574287          3.131174   \n",
            "Rain                                      9.786275          7.042810   \n",
            "Rain Showers                             13.722340          9.187766   \n",
            "Rain Showers,Fog                         12.800000         12.100000   \n",
            "Rain Showers,Snow Showers                 2.150000         -1.500000   \n",
            "Rain,Fog                                  8.273276          7.219828   \n",
            "Rain,Haze                                 4.633333          2.066667   \n",
            "Rain,Ice Pellets                          0.600000         -0.600000   \n",
            "Rain,Snow                                 1.055556         -0.566667   \n",
            "Rain,Snow Grains                          1.900000         -2.100000   \n",
            "Rain,Snow,Fog                             0.800000          0.300000   \n",
            "Rain,Snow,Ice Pellets                     1.100000         -0.175000   \n",
            "Snow                                     -4.524103         -7.623333   \n",
            "Snow Pellets                              0.700000         -6.400000   \n",
            "Snow Showers                             -3.506667         -7.866667   \n",
            "Snow Showers,Fog                        -10.675000        -11.900000   \n",
            "Snow,Blowing Snow                        -5.410526         -7.621053   \n",
            "Snow,Fog                                 -5.075676         -6.364865   \n",
            "Snow,Haze                                -4.020000         -6.860000   \n",
            "Snow,Ice Pellets                         -1.883333         -3.666667   \n",
            "Thunderstorms                            24.150000         19.750000   \n",
            "Thunderstorms,Heavy Rain Showers         10.900000          9.000000   \n",
            "Thunderstorms,Moderate Rain Showers,Fog  19.600000         18.500000   \n",
            "Thunderstorms,Rain                       20.433333         18.533333   \n",
            "Thunderstorms,Rain Showers               20.037500         17.618750   \n",
            "Thunderstorms,Rain Showers,Fog           21.600000         18.700000   \n",
            "Thunderstorms,Rain,Fog                   20.600000         18.600000   \n",
            "\n",
            "                                         Rel Hum_%  Wind Speed_km/h  \\\n",
            "Weather_Condition                                                     \n",
            "Clear                                    64.497738        10.557315   \n",
            "Cloudy                                   69.592593        16.127315   \n",
            "Drizzle                                  88.243902        16.097561   \n",
            "Drizzle,Fog                              93.275000        11.862500   \n",
            "Drizzle,Ice Pellets,Fog                  92.000000        20.000000   \n",
            "Drizzle,Snow                             93.500000        14.000000   \n",
            "Drizzle,Snow,Fog                         95.866667        15.533333   \n",
            "Fog                                      92.286667         7.946667   \n",
            "Freezing Drizzle                         83.571429        16.571429   \n",
            "Freezing Drizzle,Fog                     88.500000        17.000000   \n",
            "Freezing Drizzle,Haze                    82.000000        10.333333   \n",
            "Freezing Drizzle,Snow                    86.090909        16.272727   \n",
            "Freezing Fog                             87.750000         4.750000   \n",
            "Freezing Rain                            84.642857        19.214286   \n",
            "Freezing Rain,Fog                        89.500000        15.500000   \n",
            "Freezing Rain,Haze                       82.500000         7.500000   \n",
            "Freezing Rain,Ice Pellets,Fog            92.000000        28.000000   \n",
            "Freezing Rain,Snow Grains                84.000000        32.000000   \n",
            "Haze                                     81.625000        10.437500   \n",
            "Mainly Clear                             60.667142        14.144824   \n",
            "Moderate Rain,Fog                        94.000000        17.000000   \n",
            "Moderate Snow                            87.750000        33.750000   \n",
            "Moderate Snow,Blowing Snow               92.500000        40.000000   \n",
            "Mostly Cloudy                            62.102465        15.813920   \n",
            "Rain                                     83.624183        19.254902   \n",
            "Rain Showers                             75.159574        17.132979   \n",
            "Rain Showers,Fog                         96.000000        13.000000   \n",
            "Rain Showers,Snow Showers                76.500000        22.500000   \n",
            "Rain,Fog                                 93.189655        14.793103   \n",
            "Rain,Haze                                83.333333        11.666667   \n",
            "Rain,Ice Pellets                         92.000000        24.000000   \n",
            "Rain,Snow                                89.000000        28.388889   \n",
            "Rain,Snow Grains                         75.000000        26.000000   \n",
            "Rain,Snow,Fog                            96.000000         9.000000   \n",
            "Rain,Snow,Ice Pellets                    91.500000        23.250000   \n",
            "Snow                                     79.307692        20.038462   \n",
            "Snow Pellets                             59.000000        35.000000   \n",
            "Snow Showers                             72.350000        19.233333   \n",
            "Snow Showers,Fog                         90.750000        13.750000   \n",
            "Snow,Blowing Snow                        84.473684        34.842105   \n",
            "Snow,Fog                                 90.675676        17.324324   \n",
            "Snow,Haze                                80.600000         5.000000   \n",
            "Snow,Ice Pellets                         87.666667        23.833333   \n",
            "Thunderstorms                            77.000000         7.500000   \n",
            "Thunderstorms,Heavy Rain Showers         88.000000         9.000000   \n",
            "Thunderstorms,Moderate Rain Showers,Fog  93.000000        15.000000   \n",
            "Thunderstorms,Rain                       89.000000        15.666667   \n",
            "Thunderstorms,Rain Showers               86.375000        18.312500   \n",
            "Thunderstorms,Rain Showers,Fog           84.000000        19.666667   \n",
            "Thunderstorms,Rain,Fog                   88.000000        19.000000   \n",
            "\n",
            "                                         Visibility_km   Press_kPa  \n",
            "Weather_Condition                                                   \n",
            "Clear                                        30.153243  101.587443  \n",
            "Cloudy                                       26.625752  100.911441  \n",
            "Drizzle                                      17.931707  100.435366  \n",
            "Drizzle,Fog                                   5.257500  100.786625  \n",
            "Drizzle,Ice Pellets,Fog                       4.000000  100.790000  \n",
            "Drizzle,Snow                                 10.500000  100.890000  \n",
            "Drizzle,Snow,Fog                              5.513333   99.281333  \n",
            "Fog                                           6.248000  101.184067  \n",
            "Freezing Drizzle                              9.200000  100.202857  \n",
            "Freezing Drizzle,Fog                          5.266667  100.441667  \n",
            "Freezing Drizzle,Haze                         2.666667  100.316667  \n",
            "Freezing Drizzle,Snow                         5.872727  100.520909  \n",
            "Freezing Fog                                  0.650000  102.320000  \n",
            "Freezing Rain                                 8.242857   99.647143  \n",
            "Freezing Rain,Fog                             7.550000   99.945000  \n",
            "Freezing Rain,Haze                            2.400000  100.375000  \n",
            "Freezing Rain,Ice Pellets,Fog                 8.000000  100.950000  \n",
            "Freezing Rain,Snow Grains                     4.800000   98.560000  \n",
            "Haze                                          7.831250  101.482500  \n",
            "Mainly Clear                                 34.264862  101.248832  \n",
            "Moderate Rain,Fog                             6.400000   99.980000  \n",
            "Moderate Snow                                 0.750000  100.275000  \n",
            "Moderate Snow,Blowing Snow                    0.600000  100.570000  \n",
            "Mostly Cloudy                                31.253842  101.025288  \n",
            "Rain                                         18.856536  100.233333  \n",
            "Rain Showers                                 22.816489  100.404043  \n",
            "Rain Showers,Fog                              6.400000   99.830000  \n",
            "Rain Showers,Snow Showers                    21.700000  101.100000  \n",
            "Rain,Fog                                      6.873276  100.500862  \n",
            "Rain,Haze                                     6.700000  100.540000  \n",
            "Rain,Ice Pellets                              9.700000  100.120000  \n",
            "Rain,Snow                                    11.672222   99.951111  \n",
            "Rain,Snow Grains                             25.000000  100.600000  \n",
            "Rain,Snow,Fog                                 6.400000  100.730000  \n",
            "Rain,Snow,Ice Pellets                         6.000000  100.105000  \n",
            "Snow                                         11.171795  100.536103  \n",
            "Snow Pellets                                  2.400000   99.700000  \n",
            "Snow Showers                                 20.158333  100.963500  \n",
            "Snow Showers,Fog                              7.025000  101.292500  \n",
            "Snow,Blowing Snow                             4.105263   99.704737  \n",
            "Snow,Fog                                      4.537838  100.688649  \n",
            "Snow,Haze                                     4.640000  100.782000  \n",
            "Snow,Ice Pellets                              7.416667  100.548333  \n",
            "Thunderstorms                                24.550000  100.230000  \n",
            "Thunderstorms,Heavy Rain Showers              2.400000  100.260000  \n",
            "Thunderstorms,Moderate Rain Showers,Fog       3.200000  100.010000  \n",
            "Thunderstorms,Rain                           19.833333  100.420000  \n",
            "Thunderstorms,Rain Showers                   15.893750  100.233750  \n",
            "Thunderstorms,Rain Showers,Fog                9.700000  100.063333  \n",
            "Thunderstorms,Rain,Fog                        4.800000  100.080000  \n"
          ]
        }
      ],
      "source": [
        "mean_by_weather = df.groupby('Weather_Condition')[['Temp_C', 'Dew Point Temp_C', 'Rel Hum_%', 'Wind Speed_km/h', 'Visibility_km', 'Press_kPa']].mean()\n",
        "print(mean_by_weather)"
      ]
    },
    {
      "cell_type": "code",
      "execution_count": 31,
      "id": "90e90d36-2711-41e6-91bc-1c70fbb0bb19",
      "metadata": {
        "colab": {
          "base_uri": "https://localhost:8080/"
        },
        "id": "90e90d36-2711-41e6-91bc-1c70fbb0bb19",
        "outputId": "f9dd5225-2e34-4c79-c212-842a45444854"
      },
      "outputs": [
        {
          "output_type": "stream",
          "name": "stdout",
          "text": [
            "             Date/Time  Temp_C  Dew Point Temp_C  Rel Hum_%  Wind Speed_km/h  \\\n",
            "114     1/5/2012 18:00    -7.1             -14.4         56               11   \n",
            "115     1/5/2012 19:00    -9.2             -15.4         61                7   \n",
            "116     1/5/2012 20:00    -9.8             -15.7         62                9   \n",
            "117     1/5/2012 21:00    -9.0             -14.8         63               13   \n",
            "241     1/11/2012 1:00   -10.7             -17.8         56               17   \n",
            "...                ...     ...               ...        ...              ...   \n",
            "8646   12/26/2012 6:00   -13.4             -14.8         89                4   \n",
            "8698  12/28/2012 10:00    -6.1              -8.6         82               19   \n",
            "8713   12/29/2012 1:00   -11.9             -13.6         87               11   \n",
            "8714   12/29/2012 2:00   -11.8             -13.1         90               13   \n",
            "8756  12/30/2012 20:00   -13.8             -16.5         80               24   \n",
            "\n",
            "      Visibility_km  Press_kPa Weather_Condition  \n",
            "114            25.0     100.71             Clear  \n",
            "115            25.0     100.80             Clear  \n",
            "116            25.0     100.83             Clear  \n",
            "117            25.0     100.83             Clear  \n",
            "241            25.0     101.49             Clear  \n",
            "...             ...        ...               ...  \n",
            "8646           25.0     102.47             Clear  \n",
            "8698           24.1     101.27             Clear  \n",
            "8713           25.0     101.31             Clear  \n",
            "8714           25.0     101.33             Clear  \n",
            "8756           25.0     101.52             Clear  \n",
            "\n",
            "[1220 rows x 8 columns]\n"
          ]
        }
      ],
      "source": [
        "clear_high_humidity_or_visibility = df[(df['Weather_Condition'] == 'Clear') & ((df['Rel Hum_%'] > 50) | (df['Visibility_km'] > 40))]\n",
        "print(clear_high_humidity_or_visibility)\n"
      ]
    },
    {
      "cell_type": "code",
      "execution_count": 32,
      "id": "09021131-a378-43c9-bd43-8776640e02ee",
      "metadata": {
        "colab": {
          "base_uri": "https://localhost:8080/"
        },
        "id": "09021131-a378-43c9-bd43-8776640e02ee",
        "outputId": "583c1cdd-5f9e-4184-caed-8b7748024622"
      },
      "outputs": [
        {
          "output_type": "stream",
          "name": "stdout",
          "text": [
            "583\n"
          ]
        }
      ],
      "source": [
        "snow_conditions = df[df['Weather_Condition'].str.contains('Snow')].shape[0]\n",
        "print(snow_conditions)\n"
      ]
    }
  ],
  "metadata": {
    "kernelspec": {
      "display_name": "Python 3 (ipykernel)",
      "language": "python",
      "name": "python3"
    },
    "language_info": {
      "codemirror_mode": {
        "name": "ipython",
        "version": 3
      },
      "file_extension": ".py",
      "mimetype": "text/x-python",
      "name": "python",
      "nbconvert_exporter": "python",
      "pygments_lexer": "ipython3",
      "version": "3.12.4"
    },
    "colab": {
      "provenance": []
    }
  },
  "nbformat": 4,
  "nbformat_minor": 5
}